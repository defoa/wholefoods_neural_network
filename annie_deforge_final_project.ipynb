{
 "cells": [
  {
   "cell_type": "markdown",
   "metadata": {},
   "source": [
    "# Predicting Wholefoods Locations\n",
    "### By: Annie DeForge"
   ]
  },
  {
   "cell_type": "markdown",
   "metadata": {},
   "source": [
    "## Installation\n",
    "\n",
    "#### The package to run a neural network is not automatically installed on Juypter Notebooks, so the code below installs the tensorflow package, the parent package for keras, which we will need to for the neural network model."
   ]
  },
  {
   "cell_type": "code",
   "execution_count": 1,
   "metadata": {},
   "outputs": [
    {
     "name": "stdout",
     "output_type": "stream",
     "text": [
      "Defaulting to user installation because normal site-packages is not writeable\n",
      "Requirement already satisfied: tensorflow in c:\\users\\annie's computer\\appdata\\roaming\\python\\python38\\site-packages (2.4.1)\n",
      "Requirement already satisfied: wrapt~=1.12.1 in c:\\users\\annie's computer\\appdata\\roaming\\python\\python38\\site-packages (from tensorflow) (1.12.1)\n",
      "Requirement already satisfied: protobuf>=3.9.2 in c:\\users\\annie's computer\\appdata\\roaming\\python\\python38\\site-packages (from tensorflow) (3.15.8)\n",
      "Requirement already satisfied: google-pasta~=0.2 in c:\\users\\annie's computer\\appdata\\roaming\\python\\python38\\site-packages (from tensorflow) (0.2.0)\n",
      "Requirement already satisfied: typing-extensions~=3.7.4 in c:\\users\\anaconda\\lib\\site-packages (from tensorflow) (3.7.4.3)\n",
      "Requirement already satisfied: grpcio~=1.32.0 in c:\\users\\annie's computer\\appdata\\roaming\\python\\python38\\site-packages (from tensorflow) (1.32.0)\n",
      "Requirement already satisfied: tensorboard~=2.4 in c:\\users\\annie's computer\\appdata\\roaming\\python\\python38\\site-packages (from tensorflow) (2.5.0)\n",
      "Requirement already satisfied: keras-preprocessing~=1.1.2 in c:\\users\\annie's computer\\appdata\\roaming\\python\\python38\\site-packages (from tensorflow) (1.1.2)\n",
      "Requirement already satisfied: flatbuffers~=1.12.0 in c:\\users\\annie's computer\\appdata\\roaming\\python\\python38\\site-packages (from tensorflow) (1.12)\n",
      "Note: you may need to restart the kernel to use updated packages.\n",
      "Requirement already satisfied: h5py~=2.10.0 in c:\\users\\anaconda\\lib\\site-packages (from tensorflow) (2.10.0)\n",
      "Requirement already satisfied: numpy~=1.19.2 in c:\\users\\anaconda\\lib\\site-packages (from tensorflow) (1.19.2)\n",
      "Requirement already satisfied: six~=1.15.0 in c:\\users\\anaconda\\lib\\site-packages (from tensorflow) (1.15.0)\n",
      "Requirement already satisfied: wheel~=0.35 in c:\\users\\anaconda\\lib\\site-packages (from tensorflow) (0.35.1)\n",
      "Requirement already satisfied: tensorflow-estimator<2.5.0,>=2.4.0 in c:\\users\\annie's computer\\appdata\\roaming\\python\\python38\\site-packages (from tensorflow) (2.4.0)\n",
      "Requirement already satisfied: gast==0.3.3 in c:\\users\\annie's computer\\appdata\\roaming\\python\\python38\\site-packages (from tensorflow) (0.3.3)\n",
      "Requirement already satisfied: absl-py~=0.10 in c:\\users\\annie's computer\\appdata\\roaming\\python\\python38\\site-packages (from tensorflow) (0.12.0)\n",
      "Requirement already satisfied: opt-einsum~=3.3.0 in c:\\users\\annie's computer\\appdata\\roaming\\python\\python38\\site-packages (from tensorflow) (3.3.0)\n",
      "Requirement already satisfied: astunparse~=1.6.3 in c:\\users\\annie's computer\\appdata\\roaming\\python\\python38\\site-packages (from tensorflow) (1.6.3)\n",
      "Requirement already satisfied: termcolor~=1.1.0 in c:\\users\\annie's computer\\appdata\\roaming\\python\\python38\\site-packages (from tensorflow) (1.1.0)\n",
      "Requirement already satisfied: setuptools>=41.0.0 in c:\\users\\anaconda\\lib\\site-packages (from tensorboard~=2.4->tensorflow) (50.3.1.post20201107)\n",
      "Requirement already satisfied: google-auth<2,>=1.6.3 in c:\\users\\annie's computer\\appdata\\roaming\\python\\python38\\site-packages (from tensorboard~=2.4->tensorflow) (1.30.0)\n",
      "Requirement already satisfied: markdown>=2.6.8 in c:\\users\\annie's computer\\appdata\\roaming\\python\\python38\\site-packages (from tensorboard~=2.4->tensorflow) (3.3.4)\n",
      "Requirement already satisfied: werkzeug>=0.11.15 in c:\\users\\anaconda\\lib\\site-packages (from tensorboard~=2.4->tensorflow) (1.0.1)\n",
      "Requirement already satisfied: google-auth-oauthlib<0.5,>=0.4.1 in c:\\users\\annie's computer\\appdata\\roaming\\python\\python38\\site-packages (from tensorboard~=2.4->tensorflow) (0.4.4)\n",
      "Requirement already satisfied: tensorboard-data-server<0.7.0,>=0.6.0 in c:\\users\\annie's computer\\appdata\\roaming\\python\\python38\\site-packages (from tensorboard~=2.4->tensorflow) (0.6.0)\n",
      "Requirement already satisfied: tensorboard-plugin-wit>=1.6.0 in c:\\users\\annie's computer\\appdata\\roaming\\python\\python38\\site-packages (from tensorboard~=2.4->tensorflow) (1.8.0)\n",
      "Requirement already satisfied: requests<3,>=2.21.0 in c:\\users\\anaconda\\lib\\site-packages (from tensorboard~=2.4->tensorflow) (2.24.0)\n",
      "Requirement already satisfied: rsa<5,>=3.1.4; python_version >= \"3.6\" in c:\\users\\annie's computer\\appdata\\roaming\\python\\python38\\site-packages (from google-auth<2,>=1.6.3->tensorboard~=2.4->tensorflow) (4.7.2)\n",
      "Requirement already satisfied: pyasn1-modules>=0.2.1 in c:\\users\\annie's computer\\appdata\\roaming\\python\\python38\\site-packages (from google-auth<2,>=1.6.3->tensorboard~=2.4->tensorflow) (0.2.8)\n",
      "Requirement already satisfied: cachetools<5.0,>=2.0.0 in c:\\users\\annie's computer\\appdata\\roaming\\python\\python38\\site-packages (from google-auth<2,>=1.6.3->tensorboard~=2.4->tensorflow) (4.2.1)\n",
      "Requirement already satisfied: requests-oauthlib>=0.7.0 in c:\\users\\annie's computer\\appdata\\roaming\\python\\python38\\site-packages (from google-auth-oauthlib<0.5,>=0.4.1->tensorboard~=2.4->tensorflow) (1.3.0)\n",
      "Requirement already satisfied: idna<3,>=2.5 in c:\\users\\anaconda\\lib\\site-packages (from requests<3,>=2.21.0->tensorboard~=2.4->tensorflow) (2.10)\n",
      "Requirement already satisfied: certifi>=2017.4.17 in c:\\users\\anaconda\\lib\\site-packages (from requests<3,>=2.21.0->tensorboard~=2.4->tensorflow) (2020.6.20)\n",
      "Requirement already satisfied: chardet<4,>=3.0.2 in c:\\users\\anaconda\\lib\\site-packages (from requests<3,>=2.21.0->tensorboard~=2.4->tensorflow) (3.0.4)\n",
      "Requirement already satisfied: urllib3!=1.25.0,!=1.25.1,<1.26,>=1.21.1 in c:\\users\\anaconda\\lib\\site-packages (from requests<3,>=2.21.0->tensorboard~=2.4->tensorflow) (1.25.11)\n",
      "Requirement already satisfied: pyasn1>=0.1.3 in c:\\users\\annie's computer\\appdata\\roaming\\python\\python38\\site-packages (from rsa<5,>=3.1.4; python_version >= \"3.6\"->google-auth<2,>=1.6.3->tensorboard~=2.4->tensorflow) (0.4.8)\n",
      "Requirement already satisfied: oauthlib>=3.0.0 in c:\\users\\annie's computer\\appdata\\roaming\\python\\python38\\site-packages (from requests-oauthlib>=0.7.0->google-auth-oauthlib<0.5,>=0.4.1->tensorboard~=2.4->tensorflow) (3.1.0)\n"
     ]
    }
   ],
   "source": [
    "pip install tensorflow"
   ]
  },
  {
   "cell_type": "markdown",
   "metadata": {},
   "source": [
    "## Import Packages"
   ]
  },
  {
   "cell_type": "code",
   "execution_count": 2,
   "metadata": {},
   "outputs": [],
   "source": [
    "import pandas as pd\n",
    "import numpy as np\n",
    "from sklearn import preprocessing\n",
    "from sklearn.model_selection import train_test_split\n",
    "import matplotlib.pyplot as plt\n",
    "import seaborn as sns\n",
    "from keras.models import Sequential\n",
    "from keras.layers import Dense"
   ]
  },
  {
   "cell_type": "markdown",
   "metadata": {},
   "source": [
    "## Loading the Data\n",
    "\n",
    "#### Load the unified data into a pandas dataframe. The unified data was created by manipulating a dataset of Wholefoods locations to be grouped by county so that it could be merged with the county level American Community Survey data that was used in this project as the response variable in the neural network. The process invovled multiple merges of three different datasets and the code is included in the appendix."
   ]
  },
  {
   "cell_type": "code",
   "execution_count": 3,
   "metadata": {},
   "outputs": [],
   "source": [
    "input_data = pd.read_csv(\"model_input_data.csv\")"
   ]
  },
  {
   "cell_type": "markdown",
   "metadata": {},
   "source": [
    "## Spltiing the Data\n",
    "\n",
    "#### The neural network requires that the whole dataset is split so that unqiue data values are available for the different steps in building the neural network. The data needs to be split into training data, which takes up the bulk of the data, a portion for validation, and the last portion is for testing the model."
   ]
  },
  {
   "cell_type": "code",
   "execution_count": 4,
   "metadata": {},
   "outputs": [],
   "source": [
    "X = input_data.iloc[:, 3:12].dropna()\n",
    "Y = input_data.HasWholefoods\n",
    "scaler = preprocessing.MinMaxScaler()\n",
    "X_scale = scaler.fit_transform(X)\n",
    "X_train, X_val_and_test, Y_train, Y_val_and_test = train_test_split(X_scale, Y, test_size=0.3)\n",
    "X_val, X_test, Y_val, Y_test = train_test_split(X_val_and_test, Y_val_and_test, test_size=0.5)"
   ]
  },
  {
   "cell_type": "markdown",
   "metadata": {},
   "source": [
    "#### Columns 3 through 12 are the predictor variables and are called and stored in X, while the HasWholefoods column is the response variable is stored in Y. For the neural network, the response variable needs to be categorical, however, the data cannot be string data so HasWholefoods stores its data as an int where 1 is equal to true and 0 is equal to false.\n",
    "\n",
    "#### The function train_test_split() is used to split the data into the necessary parts. train_test_split() only splits the data in two as time so two statements are required. The argument test_size splits the declared percentage into training and testing for both X and Y. The first statement splits 30% for testing, however, this 30% is split into 50% for validation and testing. Therefore, the ultimate breakdown is 70% training, 15% validation, and 15% testing."
   ]
  },
  {
   "cell_type": "markdown",
   "metadata": {},
   "source": [
    "## Building the Neural Network\n",
    "\n",
    "#### The keras package is used to create a neural network with an input layer, output layer, and two hidden layers. Each of the hidden layers has 8 neurons. The input layer has 9 nodes because there are 9 predictors and the output layer has 1 node because there is 1 output. "
   ]
  },
  {
   "cell_type": "code",
   "execution_count": 5,
   "metadata": {},
   "outputs": [],
   "source": [
    "model = Sequential()\n",
    "\n",
    "model.add(Dense(8, activation='relu', input_shape=(9,)))\n",
    "model.add(Dense(8, activation='relu'))\n",
    "model.add(Dense(1, activation='sigmoid'))\n",
    "\n",
    "model.compile(optimizer='sgd',\n",
    "              loss='binary_crossentropy',\n",
    "             metrics=['accuracy'])"
   ]
  },
  {
   "cell_type": "code",
   "execution_count": 6,
   "metadata": {},
   "outputs": [
    {
     "name": "stdout",
     "output_type": "stream",
     "text": [
      "Epoch 1/90\n",
      "550/550 [==============================] - 5s 7ms/step - loss: 0.4224 - accuracy: 0.9495 - val_loss: 0.2224 - val_accuracy: 0.9448\n",
      "Epoch 2/90\n",
      "550/550 [==============================] - 1s 2ms/step - loss: 0.2160 - accuracy: 0.9462 - val_loss: 0.2148 - val_accuracy: 0.9448\n",
      "Epoch 3/90\n",
      "550/550 [==============================] - 1s 2ms/step - loss: 0.2035 - accuracy: 0.9486 - val_loss: 0.2124 - val_accuracy: 0.9448\n",
      "Epoch 4/90\n",
      "550/550 [==============================] - 1s 2ms/step - loss: 0.2006 - accuracy: 0.9488 - val_loss: 0.2097 - val_accuracy: 0.9448\n",
      "Epoch 5/90\n",
      "550/550 [==============================] - 1s 2ms/step - loss: 0.2060 - accuracy: 0.9461 - val_loss: 0.2061 - val_accuracy: 0.9448\n",
      "Epoch 6/90\n",
      "550/550 [==============================] - 1s 2ms/step - loss: 0.2083 - accuracy: 0.9444 - val_loss: 0.2019 - val_accuracy: 0.9448\n",
      "Epoch 7/90\n",
      "550/550 [==============================] - 1s 2ms/step - loss: 0.1977 - accuracy: 0.9470 - val_loss: 0.1974 - val_accuracy: 0.9448\n",
      "Epoch 8/90\n",
      "550/550 [==============================] - 1s 2ms/step - loss: 0.1909 - accuracy: 0.9471 - val_loss: 0.1922 - val_accuracy: 0.9448\n",
      "Epoch 9/90\n",
      "550/550 [==============================] - 1s 2ms/step - loss: 0.1871 - accuracy: 0.9466 - val_loss: 0.1865 - val_accuracy: 0.9448\n",
      "Epoch 10/90\n",
      "550/550 [==============================] - 1s 2ms/step - loss: 0.1945 - accuracy: 0.9410 - val_loss: 0.1802 - val_accuracy: 0.9448\n",
      "Epoch 11/90\n",
      "550/550 [==============================] - 1s 2ms/step - loss: 0.1684 - accuracy: 0.9501 - val_loss: 0.1722 - val_accuracy: 0.9448\n",
      "Epoch 12/90\n",
      "550/550 [==============================] - 1s 2ms/step - loss: 0.1689 - accuracy: 0.9458 - val_loss: 0.1643 - val_accuracy: 0.9448\n",
      "Epoch 13/90\n",
      "550/550 [==============================] - 1s 2ms/step - loss: 0.1629 - accuracy: 0.9452 - val_loss: 0.1573 - val_accuracy: 0.9448\n",
      "Epoch 14/90\n",
      "550/550 [==============================] - 1s 2ms/step - loss: 0.1578 - accuracy: 0.9455 - val_loss: 0.1499 - val_accuracy: 0.9448\n",
      "Epoch 15/90\n",
      "550/550 [==============================] - 1s 2ms/step - loss: 0.1652 - accuracy: 0.9386 - val_loss: 0.1442 - val_accuracy: 0.9448\n",
      "Epoch 16/90\n",
      "550/550 [==============================] - 1s 2ms/step - loss: 0.1794 - accuracy: 0.9338 - val_loss: 0.1379 - val_accuracy: 0.9448\n",
      "Epoch 17/90\n",
      "550/550 [==============================] - 1s 2ms/step - loss: 0.1627 - accuracy: 0.9361 - val_loss: 0.1289 - val_accuracy: 0.9448\n",
      "Epoch 18/90\n",
      "550/550 [==============================] - 1s 2ms/step - loss: 0.1187 - accuracy: 0.9533 - val_loss: 0.1222 - val_accuracy: 0.9448\n",
      "Epoch 19/90\n",
      "550/550 [==============================] - 1s 2ms/step - loss: 0.1309 - accuracy: 0.9447 - val_loss: 0.1155 - val_accuracy: 0.9448\n",
      "Epoch 20/90\n",
      "550/550 [==============================] - 1s 2ms/step - loss: 0.1266 - accuracy: 0.9500 - val_loss: 0.1096 - val_accuracy: 0.9448\n",
      "Epoch 21/90\n",
      "550/550 [==============================] - 1s 2ms/step - loss: 0.1198 - accuracy: 0.9455 - val_loss: 0.1047 - val_accuracy: 0.9448\n",
      "Epoch 22/90\n",
      "550/550 [==============================] - 1s 2ms/step - loss: 0.1163 - accuracy: 0.9525 - val_loss: 0.1003 - val_accuracy: 0.9469\n",
      "Epoch 23/90\n",
      "550/550 [==============================] - 1s 2ms/step - loss: 0.1054 - accuracy: 0.9535 - val_loss: 0.0968 - val_accuracy: 0.9554\n",
      "Epoch 24/90\n",
      "550/550 [==============================] - 1s 2ms/step - loss: 0.1139 - accuracy: 0.9478 - val_loss: 0.0946 - val_accuracy: 0.9575\n",
      "Epoch 25/90\n",
      "550/550 [==============================] - 1s 2ms/step - loss: 0.1161 - accuracy: 0.9462 - val_loss: 0.0947 - val_accuracy: 0.9575\n",
      "Epoch 26/90\n",
      "550/550 [==============================] - 1s 2ms/step - loss: 0.1085 - accuracy: 0.9514 - val_loss: 0.0897 - val_accuracy: 0.9660\n",
      "Epoch 27/90\n",
      "550/550 [==============================] - 1s 3ms/step - loss: 0.0968 - accuracy: 0.9598 - val_loss: 0.0884 - val_accuracy: 0.9682\n",
      "Epoch 28/90\n",
      "550/550 [==============================] - 1s 2ms/step - loss: 0.1033 - accuracy: 0.9537 - val_loss: 0.0893 - val_accuracy: 0.9639\n",
      "Epoch 29/90\n",
      "550/550 [==============================] - 1s 3ms/step - loss: 0.1087 - accuracy: 0.9521 - val_loss: 0.0849 - val_accuracy: 0.9660\n",
      "Epoch 30/90\n",
      "550/550 [==============================] - 1s 3ms/step - loss: 0.0913 - accuracy: 0.9602 - val_loss: 0.0835 - val_accuracy: 0.9660\n",
      "Epoch 31/90\n",
      "550/550 [==============================] - 1s 3ms/step - loss: 0.1036 - accuracy: 0.9520 - val_loss: 0.0826 - val_accuracy: 0.9660\n",
      "Epoch 32/90\n",
      "550/550 [==============================] - 1s 3ms/step - loss: 0.0932 - accuracy: 0.9604 - val_loss: 0.0821 - val_accuracy: 0.9660\n",
      "Epoch 33/90\n",
      "550/550 [==============================] - 1s 3ms/step - loss: 0.0959 - accuracy: 0.9582 - val_loss: 0.0812 - val_accuracy: 0.9660\n",
      "Epoch 34/90\n",
      "550/550 [==============================] - 1s 3ms/step - loss: 0.0897 - accuracy: 0.9630 - val_loss: 0.0828 - val_accuracy: 0.9575\n",
      "Epoch 35/90\n",
      "550/550 [==============================] - 2s 3ms/step - loss: 0.0954 - accuracy: 0.9549 - val_loss: 0.0799 - val_accuracy: 0.9639\n",
      "Epoch 36/90\n",
      "550/550 [==============================] - 1s 3ms/step - loss: 0.0969 - accuracy: 0.9576 - val_loss: 0.0798 - val_accuracy: 0.9618\n",
      "Epoch 37/90\n",
      "550/550 [==============================] - 1s 2ms/step - loss: 0.0990 - accuracy: 0.9575 - val_loss: 0.0795 - val_accuracy: 0.9660\n",
      "Epoch 38/90\n",
      "550/550 [==============================] - 1s 2ms/step - loss: 0.0981 - accuracy: 0.9520 - val_loss: 0.0792 - val_accuracy: 0.9660\n",
      "Epoch 39/90\n",
      "550/550 [==============================] - 1s 2ms/step - loss: 0.0945 - accuracy: 0.9577 - val_loss: 0.0772 - val_accuracy: 0.9660\n",
      "Epoch 40/90\n",
      "550/550 [==============================] - 2s 3ms/step - loss: 0.1045 - accuracy: 0.9534 - val_loss: 0.0791 - val_accuracy: 0.9660\n",
      "Epoch 41/90\n",
      "550/550 [==============================] - 1s 2ms/step - loss: 0.0795 - accuracy: 0.9626 - val_loss: 0.0764 - val_accuracy: 0.9618\n",
      "Epoch 42/90\n",
      "550/550 [==============================] - 1s 2ms/step - loss: 0.1000 - accuracy: 0.9508 - val_loss: 0.0765 - val_accuracy: 0.9660\n",
      "Epoch 43/90\n",
      "550/550 [==============================] - 1s 2ms/step - loss: 0.0922 - accuracy: 0.9589 - val_loss: 0.0748 - val_accuracy: 0.9660\n",
      "Epoch 44/90\n",
      "550/550 [==============================] - 1s 2ms/step - loss: 0.0832 - accuracy: 0.9625 - val_loss: 0.0744 - val_accuracy: 0.9660\n",
      "Epoch 45/90\n",
      "550/550 [==============================] - 1s 2ms/step - loss: 0.0938 - accuracy: 0.9567 - val_loss: 0.0750 - val_accuracy: 0.9618\n",
      "Epoch 46/90\n",
      "550/550 [==============================] - 2s 3ms/step - loss: 0.0961 - accuracy: 0.9590 - val_loss: 0.0734 - val_accuracy: 0.9639\n",
      "Epoch 47/90\n",
      "550/550 [==============================] - 1s 2ms/step - loss: 0.0870 - accuracy: 0.9641 - val_loss: 0.0725 - val_accuracy: 0.9597\n",
      "Epoch 48/90\n",
      "550/550 [==============================] - 1s 3ms/step - loss: 0.0868 - accuracy: 0.9573 - val_loss: 0.0731 - val_accuracy: 0.9597\n",
      "Epoch 49/90\n",
      "550/550 [==============================] - 1s 2ms/step - loss: 0.0964 - accuracy: 0.9561 - val_loss: 0.0720 - val_accuracy: 0.9639\n",
      "Epoch 50/90\n",
      "550/550 [==============================] - 1s 2ms/step - loss: 0.1026 - accuracy: 0.9590 - val_loss: 0.0717 - val_accuracy: 0.9618\n",
      "Epoch 51/90\n",
      "550/550 [==============================] - 1s 3ms/step - loss: 0.0835 - accuracy: 0.9620 - val_loss: 0.0713 - val_accuracy: 0.9597\n",
      "Epoch 52/90\n",
      "550/550 [==============================] - 1s 3ms/step - loss: 0.1100 - accuracy: 0.9540 - val_loss: 0.0709 - val_accuracy: 0.9597\n",
      "Epoch 53/90\n",
      "550/550 [==============================] - 1s 3ms/step - loss: 0.0787 - accuracy: 0.9663 - val_loss: 0.0701 - val_accuracy: 0.9597\n",
      "Epoch 54/90\n",
      "550/550 [==============================] - 1s 2ms/step - loss: 0.0990 - accuracy: 0.9582 - val_loss: 0.0702 - val_accuracy: 0.9618\n",
      "Epoch 55/90\n",
      "550/550 [==============================] - 1s 3ms/step - loss: 0.1001 - accuracy: 0.9532 - val_loss: 0.0695 - val_accuracy: 0.9575\n",
      "Epoch 56/90\n",
      "550/550 [==============================] - 1s 2ms/step - loss: 0.0910 - accuracy: 0.9571 - val_loss: 0.0724 - val_accuracy: 0.9639\n",
      "Epoch 57/90\n",
      "550/550 [==============================] - 1s 3ms/step - loss: 0.0883 - accuracy: 0.9616 - val_loss: 0.0688 - val_accuracy: 0.9618\n",
      "Epoch 58/90\n"
     ]
    },
    {
     "name": "stdout",
     "output_type": "stream",
     "text": [
      "550/550 [==============================] - 1s 2ms/step - loss: 0.0789 - accuracy: 0.9617 - val_loss: 0.0683 - val_accuracy: 0.9597\n",
      "Epoch 59/90\n",
      "550/550 [==============================] - 1s 2ms/step - loss: 0.0759 - accuracy: 0.9673 - val_loss: 0.0677 - val_accuracy: 0.9597\n",
      "Epoch 60/90\n",
      "550/550 [==============================] - 1s 2ms/step - loss: 0.0896 - accuracy: 0.9575 - val_loss: 0.0684 - val_accuracy: 0.9597\n",
      "Epoch 61/90\n",
      "550/550 [==============================] - 1s 2ms/step - loss: 0.0903 - accuracy: 0.9589 - val_loss: 0.0672 - val_accuracy: 0.9597\n",
      "Epoch 62/90\n",
      "550/550 [==============================] - 1s 3ms/step - loss: 0.0851 - accuracy: 0.9662 - val_loss: 0.0697 - val_accuracy: 0.9660\n",
      "Epoch 63/90\n",
      "550/550 [==============================] - 1s 3ms/step - loss: 0.0864 - accuracy: 0.9593 - val_loss: 0.0667 - val_accuracy: 0.9597\n",
      "Epoch 64/90\n",
      "550/550 [==============================] - 1s 3ms/step - loss: 0.0930 - accuracy: 0.9578 - val_loss: 0.0672 - val_accuracy: 0.9639\n",
      "Epoch 65/90\n",
      "550/550 [==============================] - 1s 3ms/step - loss: 0.0863 - accuracy: 0.9623 - val_loss: 0.0668 - val_accuracy: 0.9639\n",
      "Epoch 66/90\n",
      "550/550 [==============================] - 1s 2ms/step - loss: 0.0730 - accuracy: 0.9633 - val_loss: 0.0673 - val_accuracy: 0.9597\n",
      "Epoch 67/90\n",
      "550/550 [==============================] - 1s 2ms/step - loss: 0.0818 - accuracy: 0.9659 - val_loss: 0.0659 - val_accuracy: 0.9639\n",
      "Epoch 68/90\n",
      "550/550 [==============================] - 1s 2ms/step - loss: 0.0746 - accuracy: 0.9689 - val_loss: 0.0653 - val_accuracy: 0.9639\n",
      "Epoch 69/90\n",
      "550/550 [==============================] - 1s 2ms/step - loss: 0.0878 - accuracy: 0.9581 - val_loss: 0.0676 - val_accuracy: 0.9639\n",
      "Epoch 70/90\n",
      "550/550 [==============================] - 1s 2ms/step - loss: 0.0911 - accuracy: 0.9577 - val_loss: 0.0698 - val_accuracy: 0.9639\n",
      "Epoch 71/90\n",
      "550/550 [==============================] - 1s 2ms/step - loss: 0.0824 - accuracy: 0.9658 - val_loss: 0.0690 - val_accuracy: 0.9682\n",
      "Epoch 72/90\n",
      "550/550 [==============================] - 1s 2ms/step - loss: 0.0954 - accuracy: 0.9512 - val_loss: 0.0639 - val_accuracy: 0.9618\n",
      "Epoch 73/90\n",
      "550/550 [==============================] - 1s 2ms/step - loss: 0.0736 - accuracy: 0.9662 - val_loss: 0.0647 - val_accuracy: 0.9703\n",
      "Epoch 74/90\n",
      "550/550 [==============================] - 1s 2ms/step - loss: 0.0638 - accuracy: 0.9697 - val_loss: 0.0652 - val_accuracy: 0.9660\n",
      "Epoch 75/90\n",
      "550/550 [==============================] - 1s 2ms/step - loss: 0.0916 - accuracy: 0.9594 - val_loss: 0.0675 - val_accuracy: 0.9703\n",
      "Epoch 76/90\n",
      "550/550 [==============================] - 1s 2ms/step - loss: 0.0899 - accuracy: 0.9592 - val_loss: 0.0634 - val_accuracy: 0.9597\n",
      "Epoch 77/90\n",
      "550/550 [==============================] - 1s 2ms/step - loss: 0.0780 - accuracy: 0.9626 - val_loss: 0.0655 - val_accuracy: 0.9639\n",
      "Epoch 78/90\n",
      "550/550 [==============================] - 1s 2ms/step - loss: 0.0818 - accuracy: 0.9590 - val_loss: 0.0631 - val_accuracy: 0.9618\n",
      "Epoch 79/90\n",
      "550/550 [==============================] - 2s 3ms/step - loss: 0.0928 - accuracy: 0.9581 - val_loss: 0.0629 - val_accuracy: 0.9597\n",
      "Epoch 80/90\n",
      "550/550 [==============================] - 1s 2ms/step - loss: 0.0808 - accuracy: 0.9634 - val_loss: 0.0645 - val_accuracy: 0.9618\n",
      "Epoch 81/90\n",
      "550/550 [==============================] - 1s 2ms/step - loss: 0.0764 - accuracy: 0.9618 - val_loss: 0.0646 - val_accuracy: 0.9660\n",
      "Epoch 82/90\n",
      "550/550 [==============================] - 1s 3ms/step - loss: 0.0926 - accuracy: 0.9636 - val_loss: 0.0622 - val_accuracy: 0.9618\n",
      "Epoch 83/90\n",
      "550/550 [==============================] - 1s 2ms/step - loss: 0.0874 - accuracy: 0.9598 - val_loss: 0.0626 - val_accuracy: 0.9597\n",
      "Epoch 84/90\n",
      "550/550 [==============================] - 1s 2ms/step - loss: 0.0756 - accuracy: 0.9650 - val_loss: 0.0621 - val_accuracy: 0.9618\n",
      "Epoch 85/90\n",
      "550/550 [==============================] - 1s 2ms/step - loss: 0.0736 - accuracy: 0.9682 - val_loss: 0.0619 - val_accuracy: 0.9618\n",
      "Epoch 86/90\n",
      "550/550 [==============================] - 1s 3ms/step - loss: 0.0828 - accuracy: 0.9639 - val_loss: 0.0616 - val_accuracy: 0.9639\n",
      "Epoch 87/90\n",
      "550/550 [==============================] - 1s 3ms/step - loss: 0.0762 - accuracy: 0.9655 - val_loss: 0.0629 - val_accuracy: 0.9597\n",
      "Epoch 88/90\n",
      "550/550 [==============================] - 2s 3ms/step - loss: 0.0779 - accuracy: 0.9625 - val_loss: 0.0610 - val_accuracy: 0.9639\n",
      "Epoch 89/90\n",
      "550/550 [==============================] - 1s 2ms/step - loss: 0.0831 - accuracy: 0.9614 - val_loss: 0.0613 - val_accuracy: 0.9639\n",
      "Epoch 90/90\n",
      "550/550 [==============================] - 2s 3ms/step - loss: 0.0725 - accuracy: 0.9661 - val_loss: 0.0611 - val_accuracy: 0.9660\n"
     ]
    }
   ],
   "source": [
    "hist = model.fit(X_train, Y_train, validation_data=(X_val, Y_val), batch_size=4, epochs=90)"
   ]
  },
  {
   "cell_type": "markdown",
   "metadata": {},
   "source": [
    "#### The layers are added with a ReLU activation for the hidden layers, an input shape to match with the number of predictors is required for the first hidden layer. The outer layter uses a sigmoid activation. I also tried a softmax activation but found that the sigmoid gave better results. \n",
    "\n",
    "#### Once the layers to the network are added, the network needs to be compiled. The optimizer that I used was a stochastic gradient descent or \"sgd\". The loss was a set to binary crossentropy and accuracy was measured by the model as it was training. \n",
    "\n",
    "#### Lastly, the fit() function was used to fit the training and validation data that was seperated before. I found that lowering the batch size in this step produced better results in the next step."
   ]
  },
  {
   "cell_type": "markdown",
   "metadata": {},
   "source": [
    "## Evaluate the Model\n",
    "\n",
    "#### The last step of building the neural network is to test how accurate it is on a new set of data. We use the evaluate() function in order to understand how the model is function with the new data"
   ]
  },
  {
   "cell_type": "code",
   "execution_count": 7,
   "metadata": {},
   "outputs": [
    {
     "name": "stdout",
     "output_type": "stream",
     "text": [
      "15/15 [==============================] - 0s 2ms/step - loss: 0.1148 - accuracy: 0.9682\n"
     ]
    },
    {
     "data": {
      "text/plain": [
       "0.9682203531265259"
      ]
     },
     "execution_count": 7,
     "metadata": {},
     "output_type": "execute_result"
    }
   ],
   "source": [
    "model.evaluate(X_test, Y_test)[1]"
   ]
  },
  {
   "cell_type": "markdown",
   "metadata": {},
   "source": [
    "#### The model is evaluated on the X_test and Y_test data that the neural network has not seen yet. The function evaluate outputs the loss and accuracy of the neural network on the test data. The [1] is used to output the model accuracy because this is the second number calculated by the evaluate() function.\n",
    "\n",
    "#### From the output, we can see that the model handles the new test data with an accuracy of 95%-97%, which means that we have a model that is accurate and that accuracy is consistant with training data."
   ]
  },
  {
   "cell_type": "markdown",
   "metadata": {},
   "source": [
    "## Visualizing Loss\n",
    "\n",
    "#### To understand if the data is fitting properly, we need to visualize the data the loss data that was created by the fit() function. The fit() function was saved into the keras callback hist, where hist.history is an array that stores the accuracy metrics of the training and validation data."
   ]
  },
  {
   "cell_type": "code",
   "execution_count": 8,
   "metadata": {},
   "outputs": [
    {
     "data": {
      "image/png": "[encoded data removed]",
      "text/plain": [
       "<Figure size 432x288 with 1 Axes>"
      ]
     },
     "metadata": {
      "needs_background": "light"
     },
     "output_type": "display_data"
    }
   ],
   "source": [
    "plt.plot(hist.history['loss'])\n",
    "plt.plot(hist.history['val_loss'])\n",
    "plt.title('Model loss')\n",
    "plt.ylabel('Loss')\n",
    "plt.xlabel('Epoch')\n",
    "plt.legend(['Train', 'Val'], loc='upper right')\n",
    "plt.show()"
   ]
  },
  {
   "cell_type": "markdown",
   "metadata": {},
   "source": [
    "#### The output is a line graph showing the training and validation loss over the number of epochs, which was set to 100 in model.fit(). It seems like the loss for the training and validation data match up and are descreasing similarly as epochs increases, which is what we are looking for."
   ]
  },
  {
   "cell_type": "markdown",
   "metadata": {},
   "source": [
    "## Visualizing Accuracy\n",
    "\n",
    "#### The second visualization to understand fit requires the accuracy data that was created by the fit() function. The line plot is the same type as above but instead the graph calls ['accuracy'] and ['val_accuracy']."
   ]
  },
  {
   "cell_type": "code",
   "execution_count": 9,
   "metadata": {},
   "outputs": [
    {
     "data": {
      "image/png": "[encoded data removed]",
      "text/plain": [
       "<Figure size 432x288 with 1 Axes>"
      ]
     },
     "metadata": {
      "needs_background": "light"
     },
     "output_type": "display_data"
    }
   ],
   "source": [
    "plt.plot(hist.history['accuracy'])\n",
    "plt.plot(hist.history['val_accuracy'])\n",
    "plt.title('Model accuracy')\n",
    "plt.ylabel('Accuracy')\n",
    "plt.xlabel('Epoch')\n",
    "plt.legend(['Train', 'Val'], loc='lower right')\n",
    "plt.show()"
   ]
  },
  {
   "cell_type": "markdown",
   "metadata": {},
   "source": [
    "#### I have found that there tends to be more variation in the accuracy than the loss for my neural network. Although sometimes there is a lot of noise in the accuacy values, especially for lower epochs. It seems like the improvements in the validation set match with the improvments in the validation set. This indicates that overfitting is not a huge problem."
   ]
  },
  {
   "cell_type": "markdown",
   "metadata": {},
   "source": [
    "## Appendix"
   ]
  },
  {
   "cell_type": "markdown",
   "metadata": {},
   "source": [
    "#### Merging the data to create the final united dataset for input into the neural network"
   ]
  },
  {
   "cell_type": "code",
   "execution_count": 10,
   "metadata": {},
   "outputs": [],
   "source": [
    "# census = pd.read_csv('census_data.csv', dtype={'CensusId':str})\n",
    "# census = census[census['State'] !='Puerto Rico']\n",
    "# cities = pd.read_csv('uscities.csv', dtype={'county_fips': str})\n",
    "# cities['city'] = cities['city']+\",\"+cities['state_id']\n",
    "# wholefoods = pd.read_csv('original_wf_data.csv')['city']\n",
    "\n",
    "# wholefoods2 = pd.merge(wholefoods, cities, on=['city'])[['county_fips', 'state_name', 'county_name']]\n",
    "# print(wholefoods2)\n",
    "# wholefoods3 = wholefoods2.groupby(['county_fips', 'state_name', 'county_name']).count().reset_index()\n",
    "# wholefoods3['HasWholefoods'] = 1\n",
    "# print(wholefoods3)\n",
    "# united_data = pd.merge(wholefoods3, census, left_on=['county_fips'], right_on=['CensusId'], how='right')\n",
    "# input_data = united_data[['CensusId', 'State', 'County', 'TotalPop', 'Men', 'Women', 'White', 'Black', 'Hispanic', 'Asian', 'IncomePerCap', 'Unemployment', 'HasWholefoods']]\n",
    "# input_data = input_data.fillna(value={'HasWholefoods':0})\n",
    "# input_data.to_csv(\"model_input_data.csv\")"
   ]
  },
  {
   "cell_type": "markdown",
   "metadata": {},
   "source": [
    "#### Producing a map of location data for Wholefoods in the US"
   ]
  },
  {
   "cell_type": "code",
   "execution_count": 11,
   "metadata": {},
   "outputs": [],
   "source": [
    "# import matplotlib.image as mpimg\n",
    "# map_img = mpimg.imread('US_map.png')\n",
    "\n",
    "# wf = pd.read_csv('original_wf_data.csv')\n",
    "# wf['count']=1\n",
    "# wf= pd.merge(wf, cities, on=['city'])[['latitude', 'longitude','county_fips', 'state_name', 'county_name', 'count']]\n",
    "# print(wholefoods2)\n",
    "# wholefoods3 = wf.groupby(['county_fips', 'state_name', 'county_name']).agg({'longitude':'mean', 'latitude':'mean', 'count':'sum'})\n",
    "# wholefoods3 = pd.DataFrame(wholefoods3).reset_index()\n",
    "# wholefoods3 = wholefoods3[wholefoods3['state_name']!='Hawaii']\n",
    "# wholefoods3 = wholefoods3[wholefoods3['state_name']!='Alaska']\n",
    "# wholefoods3.plot(kind='scatter', x='longitude', y='latitude',\n",
    "#         s='count',\n",
    "#         alpha=1)\n",
    "# frame1 = plt.gca()\n",
    "# plt.imshow(map_img, extent=[-125.5,-66.5, 25, 49],alpha=0.5)\n",
    "# frame1.axes.get_xaxis().set_visible(False)\n",
    "# frame1.axes.get_yaxis().set_visible(False)\n",
    "# plt.title('Wholefoods Locations')\n",
    "# plt.show()"
   ]
  },
  {
   "cell_type": "markdown",
   "metadata": {},
   "source": [
    "#### Merging the data differently so that instead of creating a column HasWholefoods with 0s or 1s, there is a count column"
   ]
  },
  {
   "cell_type": "code",
   "execution_count": 12,
   "metadata": {},
   "outputs": [],
   "source": [
    "# wholefoods4 = pd.merge(wholefoods, cities, on=['city'])\n",
    "# wholefoods5 = wholefoods4.groupby(['county_fips', 'state_name', 'county_name'])['city'].count().reset_index(name='Count')\n",
    "\n",
    "# combined_data = pd.merge(wholefoods5, census, left_on=['county_fips'], right_on=['CensusId'], how='right')\n",
    "# combined_data=combined_data.fillna(value={'Count':0})\n",
    "# data = combined_data[['TotalPop', 'White', 'Black', 'Hispanic', 'Asian','IncomePerCap', 'Unemployment', 'Count']]\n",
    "# print(data)"
   ]
  },
  {
   "cell_type": "markdown",
   "metadata": {},
   "source": [
    "#### Using the new merged data to create a correlation coefficient heatmap"
   ]
  },
  {
   "cell_type": "code",
   "execution_count": 13,
   "metadata": {
    "scrolled": true
   },
   "outputs": [],
   "source": [
    "# correlation_coefficients= np.corrcoef(data, rowvar=False)wholefoods4 = pd.merge(wholefoods, cities, on=['city'])\n",
    "# wholefoods5 = wholefoods4.groupby(['county_fips', 'state_name', 'county_name'])['city'].count().reset_index(name='Count')\n",
    "\n",
    "# combined_data = pd.merge(wholefoods5, census, left_on=['county_fips'], right_on=['CensusId'], how='right')\n",
    "# combined_data=combined_data.fillna(value={'Count':0})\n",
    "# data = combined_data[['TotalPop', 'White', 'Black', 'Hispanic', 'Asian','IncomePerCap', 'Unemployment', 'Count']]\n",
    "# print(data)\n",
    "# sns.heatmap(correlation_coefficients, annot=True)\n",
    "# plt.xticks(np.arange(8)+0.5, data.columns, rotation =-20)\n",
    "# plt.yticks(np.arange(8)+0.5, data.columns, rotation=0)\n",
    "# plt.title('Predictor - Response Correlations')\n",
    "# plt.show()"
   ]
  }
 ],
 "metadata": {
  "kernelspec": {
   "display_name": "Python 3",
   "language": "python",
   "name": "python3"
  },
  "language_info": {
   "codemirror_mode": {
    "name": "ipython",
    "version": 3
   },
   "file_extension": ".py",
   "mimetype": "text/x-python",
   "name": "python",
   "nbconvert_exporter": "python",
   "pygments_lexer": "ipython3",
   "version": "3.8.5"
  }
 },
 "nbformat": 4,
 "nbformat_minor": 4
}
